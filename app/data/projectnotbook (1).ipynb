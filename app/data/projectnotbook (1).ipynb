{
 "cells": [
  {
   "cell_type": "code",
   "execution_count": 1,
   "id": "a5029dc7",
   "metadata": {
    "_cell_guid": "b1076dfc-b9ad-4769-8c92-a6c4dae69d19",
    "_uuid": "8f2839f25d086af736a60e9eeb907d3b93b6e0e5",
    "execution": {
     "iopub.execute_input": "2024-11-25T01:30:25.466371Z",
     "iopub.status.busy": "2024-11-25T01:30:25.465830Z",
     "iopub.status.idle": "2024-11-25T01:30:26.513991Z",
     "shell.execute_reply": "2024-11-25T01:30:26.512432Z"
    },
    "papermill": {
     "duration": 1.059359,
     "end_time": "2024-11-25T01:30:26.517073",
     "exception": false,
     "start_time": "2024-11-25T01:30:25.457714",
     "status": "completed"
    },
    "tags": []
   },
   "outputs": [
    {
     "name": "stdout",
     "output_type": "stream",
     "text": [
      "/kaggle/input/soccer-players-values-and-their-statistics/transfermarkt_fbref_201819.csv\n",
      "/kaggle/input/soccer-players-values-and-their-statistics/transfermarkt_fbref_201718.csv\n",
      "/kaggle/input/soccer-players-values-and-their-statistics/transfermarkt_fbref_201920.csv\n"
     ]
    }
   ],
   "source": [
    "# This Python 3 environment comes with many helpful analytics libraries installed\n",
    "# It is defined by the kaggle/python Docker image: https://github.com/kaggle/docker-python\n",
    "# For example, here's several helpful packages to load\n",
    "\n",
    "import numpy as np # linear algebra\n",
    "import pandas as pd # data processing, CSV file I/O (e.g. pd.read_csv)\n",
    "\n",
    "# Input data files are available in the read-only \"../input/\" directory\n",
    "# For example, running this (by clicking run or pressing Shift+Enter) will list all files under the input directory\n",
    "\n",
    "import os\n",
    "for dirname, _, filenames in os.walk('/kaggle/input'):\n",
    "    for filename in filenames:\n",
    "        print(os.path.join(dirname, filename))\n",
    "\n",
    "# You can write up to 20GB to the current directory (/kaggle/working/) that gets preserved as output when you create a version using \"Save & Run All\" \n",
    "# You can also write temporary files to /kaggle/temp/, but they won't be saved outside of the current session"
   ]
  },
  {
   "cell_type": "markdown",
   "id": "bcc36029",
   "metadata": {
    "papermill": {
     "duration": 0.005315,
     "end_time": "2024-11-25T01:30:26.529654",
     "exception": false,
     "start_time": "2024-11-25T01:30:26.524339",
     "status": "completed"
    },
    "tags": []
   },
   "source": [
    "# Loading the Dataset"
   ]
  },
  {
   "cell_type": "code",
   "execution_count": 2,
   "id": "0fd6c6c5",
   "metadata": {
    "execution": {
     "iopub.execute_input": "2024-11-25T01:30:26.542378Z",
     "iopub.status.busy": "2024-11-25T01:30:26.541816Z",
     "iopub.status.idle": "2024-11-25T01:30:27.270135Z",
     "shell.execute_reply": "2024-11-25T01:30:27.268840Z"
    },
    "papermill": {
     "duration": 0.737691,
     "end_time": "2024-11-25T01:30:27.272692",
     "exception": false,
     "start_time": "2024-11-25T01:30:26.535001",
     "status": "completed"
    },
    "tags": []
   },
   "outputs": [
    {
     "name": "stderr",
     "output_type": "stream",
     "text": [
      "/tmp/ipykernel_17/325947871.py:3: DtypeWarning: Columns (395) have mixed types. Specify dtype option on import or set low_memory=False.\n",
      "  df_1819 = pd.read_csv('../input/soccer-players-values-and-their-statistics/transfermarkt_fbref_201819.csv',\n"
     ]
    }
   ],
   "source": [
    "df_1718 = pd.read_csv('../input/soccer-players-values-and-their-statistics/transfermarkt_fbref_201718.csv', \n",
    "                      delimiter=';', index_col=0)\n",
    "df_1819 = pd.read_csv('../input/soccer-players-values-and-their-statistics/transfermarkt_fbref_201819.csv', \n",
    "                      delimiter=';', index_col=0)\n",
    "df_1920 = pd.read_csv('../input/soccer-players-values-and-their-statistics/transfermarkt_fbref_201920.csv', \n",
    "                      delimiter=';', index_col=0)"
   ]
  },
  {
   "cell_type": "code",
   "execution_count": 3,
   "id": "c5a67d70",
   "metadata": {
    "execution": {
     "iopub.execute_input": "2024-11-25T01:30:27.285512Z",
     "iopub.status.busy": "2024-11-25T01:30:27.285065Z",
     "iopub.status.idle": "2024-11-25T01:30:27.318132Z",
     "shell.execute_reply": "2024-11-25T01:30:27.316878Z"
    },
    "papermill": {
     "duration": 0.042294,
     "end_time": "2024-11-25T01:30:27.320588",
     "exception": false,
     "start_time": "2024-11-25T01:30:27.278294",
     "status": "completed"
    },
    "tags": []
   },
   "outputs": [
    {
     "data": {
      "text/html": [
       "<div>\n",
       "<style scoped>\n",
       "    .dataframe tbody tr th:only-of-type {\n",
       "        vertical-align: middle;\n",
       "    }\n",
       "\n",
       "    .dataframe tbody tr th {\n",
       "        vertical-align: top;\n",
       "    }\n",
       "\n",
       "    .dataframe thead th {\n",
       "        text-align: right;\n",
       "    }\n",
       "</style>\n",
       "<table border=\"1\" class=\"dataframe\">\n",
       "  <thead>\n",
       "    <tr style=\"text-align: right;\">\n",
       "      <th></th>\n",
       "      <th>player</th>\n",
       "      <th>nationality</th>\n",
       "      <th>position</th>\n",
       "      <th>squad</th>\n",
       "      <th>age</th>\n",
       "      <th>birth_year</th>\n",
       "      <th>value</th>\n",
       "      <th>height</th>\n",
       "      <th>position2</th>\n",
       "      <th>foot</th>\n",
       "      <th>...</th>\n",
       "      <th>Pts/G</th>\n",
       "      <th>xG</th>\n",
       "      <th>xGA</th>\n",
       "      <th>xGDiff</th>\n",
       "      <th>xGDiff/90</th>\n",
       "      <th>Attendance</th>\n",
       "      <th>CL</th>\n",
       "      <th>WinCL</th>\n",
       "      <th>CLBestScorer</th>\n",
       "      <th>Season</th>\n",
       "    </tr>\n",
       "  </thead>\n",
       "  <tbody>\n",
       "    <tr>\n",
       "      <th>379</th>\n",
       "      <td>Burgui</td>\n",
       "      <td>es ESP</td>\n",
       "      <td>FW,MF</td>\n",
       "      <td>Alavés</td>\n",
       "      <td>23</td>\n",
       "      <td>1993</td>\n",
       "      <td>1800000</td>\n",
       "      <td>186</td>\n",
       "      <td>attack - Left Winger</td>\n",
       "      <td>right</td>\n",
       "      <td>...</td>\n",
       "      <td>1.24</td>\n",
       "      <td>39.0</td>\n",
       "      <td>53.2</td>\n",
       "      <td>-14.2</td>\n",
       "      <td>-0.37</td>\n",
       "      <td>16,819</td>\n",
       "      <td>0</td>\n",
       "      <td>0</td>\n",
       "      <td>0</td>\n",
       "      <td>201718#</td>\n",
       "    </tr>\n",
       "    <tr>\n",
       "      <th>2530</th>\n",
       "      <td>Raphaël Varane</td>\n",
       "      <td>fr FRA</td>\n",
       "      <td>DF</td>\n",
       "      <td>Real Madrid</td>\n",
       "      <td>24</td>\n",
       "      <td>1993</td>\n",
       "      <td>70000000</td>\n",
       "      <td>191</td>\n",
       "      <td>Defender - Centre-Back</td>\n",
       "      <td>right</td>\n",
       "      <td>...</td>\n",
       "      <td>2.00</td>\n",
       "      <td>83.3</td>\n",
       "      <td>45.4</td>\n",
       "      <td>37.9</td>\n",
       "      <td>1.00</td>\n",
       "      <td>66161</td>\n",
       "      <td>1</td>\n",
       "      <td>1</td>\n",
       "      <td>0</td>\n",
       "      <td>201718#</td>\n",
       "    </tr>\n",
       "    <tr>\n",
       "      <th>721</th>\n",
       "      <td>Rubén Duarte</td>\n",
       "      <td>es ESP</td>\n",
       "      <td>DF</td>\n",
       "      <td>Alavés</td>\n",
       "      <td>21</td>\n",
       "      <td>1995</td>\n",
       "      <td>2000000</td>\n",
       "      <td>179</td>\n",
       "      <td>Defender - Left-Back</td>\n",
       "      <td>left</td>\n",
       "      <td>...</td>\n",
       "      <td>1.24</td>\n",
       "      <td>39.0</td>\n",
       "      <td>53.2</td>\n",
       "      <td>-14.2</td>\n",
       "      <td>-0.37</td>\n",
       "      <td>16,819</td>\n",
       "      <td>0</td>\n",
       "      <td>0</td>\n",
       "      <td>0</td>\n",
       "      <td>201718#</td>\n",
       "    </tr>\n",
       "    <tr>\n",
       "      <th>2512</th>\n",
       "      <td>Samuel Umtiti</td>\n",
       "      <td>fr FRA</td>\n",
       "      <td>DF</td>\n",
       "      <td>Barcelona</td>\n",
       "      <td>23</td>\n",
       "      <td>1993</td>\n",
       "      <td>60000000</td>\n",
       "      <td>182</td>\n",
       "      <td>Defender - Centre-Back</td>\n",
       "      <td>left</td>\n",
       "      <td>...</td>\n",
       "      <td>2.45</td>\n",
       "      <td>78.3</td>\n",
       "      <td>41.1</td>\n",
       "      <td>37.2</td>\n",
       "      <td>0.98</td>\n",
       "      <td>66603</td>\n",
       "      <td>1</td>\n",
       "      <td>0</td>\n",
       "      <td>0</td>\n",
       "      <td>201718#</td>\n",
       "    </tr>\n",
       "    <tr>\n",
       "      <th>882</th>\n",
       "      <td>Manu García</td>\n",
       "      <td>es ESP</td>\n",
       "      <td>MF</td>\n",
       "      <td>Alavés</td>\n",
       "      <td>31</td>\n",
       "      <td>1986</td>\n",
       "      <td>1800000</td>\n",
       "      <td>183</td>\n",
       "      <td>midfield - Defensive Midfield</td>\n",
       "      <td>left</td>\n",
       "      <td>...</td>\n",
       "      <td>1.24</td>\n",
       "      <td>39.0</td>\n",
       "      <td>53.2</td>\n",
       "      <td>-14.2</td>\n",
       "      <td>-0.37</td>\n",
       "      <td>16,819</td>\n",
       "      <td>0</td>\n",
       "      <td>0</td>\n",
       "      <td>0</td>\n",
       "      <td>201718#</td>\n",
       "    </tr>\n",
       "  </tbody>\n",
       "</table>\n",
       "<p>5 rows × 399 columns</p>\n",
       "</div>"
      ],
      "text/plain": [
       "              player nationality position        squad  age  birth_year  \\\n",
       "379           Burgui      es ESP    FW,MF       Alavés   23        1993   \n",
       "2530  Raphaël Varane      fr FRA       DF  Real Madrid   24        1993   \n",
       "721     Rubén Duarte      es ESP       DF       Alavés   21        1995   \n",
       "2512   Samuel Umtiti      fr FRA       DF    Barcelona   23        1993   \n",
       "882      Manu García      es ESP       MF       Alavés   31        1986   \n",
       "\n",
       "         value  height                      position2   foot  ... Pts/G    xG  \\\n",
       "379    1800000     186           attack - Left Winger  right  ...  1.24  39.0   \n",
       "2530  70000000     191         Defender - Centre-Back  right  ...  2.00  83.3   \n",
       "721    2000000     179           Defender - Left-Back   left  ...  1.24  39.0   \n",
       "2512  60000000     182         Defender - Centre-Back   left  ...  2.45  78.3   \n",
       "882    1800000     183  midfield - Defensive Midfield   left  ...  1.24  39.0   \n",
       "\n",
       "       xGA  xGDiff  xGDiff/90  Attendance  CL  WinCL  CLBestScorer   Season  \n",
       "379   53.2   -14.2      -0.37      16,819   0      0             0  201718#  \n",
       "2530  45.4    37.9       1.00       66161   1      1             0  201718#  \n",
       "721   53.2   -14.2      -0.37      16,819   0      0             0  201718#  \n",
       "2512  41.1    37.2       0.98       66603   1      0             0  201718#  \n",
       "882   53.2   -14.2      -0.37      16,819   0      0             0  201718#  \n",
       "\n",
       "[5 rows x 399 columns]"
      ]
     },
     "execution_count": 3,
     "metadata": {},
     "output_type": "execute_result"
    }
   ],
   "source": [
    "df_1718.head()"
   ]
  },
  {
   "cell_type": "markdown",
   "id": "1567b38c",
   "metadata": {
    "papermill": {
     "duration": 0.005522,
     "end_time": "2024-11-25T01:30:27.332160",
     "exception": false,
     "start_time": "2024-11-25T01:30:27.326638",
     "status": "completed"
    },
    "tags": []
   },
   "source": [
    "## Adding a year column and combining the dataset into 1 dataframe."
   ]
  },
  {
   "cell_type": "code",
   "execution_count": 4,
   "id": "7b373cae",
   "metadata": {
    "execution": {
     "iopub.execute_input": "2024-11-25T01:30:27.346504Z",
     "iopub.status.busy": "2024-11-25T01:30:27.346057Z",
     "iopub.status.idle": "2024-11-25T01:30:27.353821Z",
     "shell.execute_reply": "2024-11-25T01:30:27.352670Z"
    },
    "papermill": {
     "duration": 0.017166,
     "end_time": "2024-11-25T01:30:27.356034",
     "exception": false,
     "start_time": "2024-11-25T01:30:27.338868",
     "status": "completed"
    },
    "tags": []
   },
   "outputs": [],
   "source": [
    "df_1718['year'] = 2017\n",
    "df_1819['year'] = 2018\n",
    "df_1920['year'] = 2019"
   ]
  },
  {
   "cell_type": "code",
   "execution_count": 5,
   "id": "f147f56e",
   "metadata": {
    "execution": {
     "iopub.execute_input": "2024-11-25T01:30:27.369512Z",
     "iopub.status.busy": "2024-11-25T01:30:27.369072Z",
     "iopub.status.idle": "2024-11-25T01:30:27.394065Z",
     "shell.execute_reply": "2024-11-25T01:30:27.392904Z"
    },
    "papermill": {
     "duration": 0.034434,
     "end_time": "2024-11-25T01:30:27.396373",
     "exception": false,
     "start_time": "2024-11-25T01:30:27.361939",
     "status": "completed"
    },
    "tags": []
   },
   "outputs": [
    {
     "data": {
      "text/plain": [
       "(7108, 400)"
      ]
     },
     "execution_count": 5,
     "metadata": {},
     "output_type": "execute_result"
    }
   ],
   "source": [
    "og_df = pd.concat([df_1718, df_1819, df_1920])\n",
    "og_df.shape"
   ]
  },
  {
   "cell_type": "code",
   "execution_count": 6,
   "id": "2da8c912",
   "metadata": {
    "execution": {
     "iopub.execute_input": "2024-11-25T01:30:27.409865Z",
     "iopub.status.busy": "2024-11-25T01:30:27.409468Z",
     "iopub.status.idle": "2024-11-25T01:30:27.440066Z",
     "shell.execute_reply": "2024-11-25T01:30:27.438798Z"
    },
    "papermill": {
     "duration": 0.039987,
     "end_time": "2024-11-25T01:30:27.442453",
     "exception": false,
     "start_time": "2024-11-25T01:30:27.402466",
     "status": "completed"
    },
    "tags": []
   },
   "outputs": [
    {
     "data": {
      "text/html": [
       "<div>\n",
       "<style scoped>\n",
       "    .dataframe tbody tr th:only-of-type {\n",
       "        vertical-align: middle;\n",
       "    }\n",
       "\n",
       "    .dataframe tbody tr th {\n",
       "        vertical-align: top;\n",
       "    }\n",
       "\n",
       "    .dataframe thead th {\n",
       "        text-align: right;\n",
       "    }\n",
       "</style>\n",
       "<table border=\"1\" class=\"dataframe\">\n",
       "  <thead>\n",
       "    <tr style=\"text-align: right;\">\n",
       "      <th></th>\n",
       "      <th>player</th>\n",
       "      <th>nationality</th>\n",
       "      <th>position</th>\n",
       "      <th>squad</th>\n",
       "      <th>age</th>\n",
       "      <th>birth_year</th>\n",
       "      <th>value</th>\n",
       "      <th>height</th>\n",
       "      <th>position2</th>\n",
       "      <th>foot</th>\n",
       "      <th>...</th>\n",
       "      <th>xG</th>\n",
       "      <th>xGA</th>\n",
       "      <th>xGDiff</th>\n",
       "      <th>xGDiff/90</th>\n",
       "      <th>Attendance</th>\n",
       "      <th>CL</th>\n",
       "      <th>WinCL</th>\n",
       "      <th>CLBestScorer</th>\n",
       "      <th>Season</th>\n",
       "      <th>year</th>\n",
       "    </tr>\n",
       "  </thead>\n",
       "  <tbody>\n",
       "    <tr>\n",
       "      <th>379.0</th>\n",
       "      <td>Burgui</td>\n",
       "      <td>es ESP</td>\n",
       "      <td>FW,MF</td>\n",
       "      <td>Alavés</td>\n",
       "      <td>23.0</td>\n",
       "      <td>1993.0</td>\n",
       "      <td>1800000.0</td>\n",
       "      <td>186.0</td>\n",
       "      <td>attack - Left Winger</td>\n",
       "      <td>right</td>\n",
       "      <td>...</td>\n",
       "      <td>39.0</td>\n",
       "      <td>53.2</td>\n",
       "      <td>-14.2</td>\n",
       "      <td>-0.37</td>\n",
       "      <td>16,819</td>\n",
       "      <td>0.0</td>\n",
       "      <td>0.0</td>\n",
       "      <td>0.0</td>\n",
       "      <td>201718#</td>\n",
       "      <td>2017</td>\n",
       "    </tr>\n",
       "    <tr>\n",
       "      <th>2530.0</th>\n",
       "      <td>Raphaël Varane</td>\n",
       "      <td>fr FRA</td>\n",
       "      <td>DF</td>\n",
       "      <td>Real Madrid</td>\n",
       "      <td>24.0</td>\n",
       "      <td>1993.0</td>\n",
       "      <td>70000000.0</td>\n",
       "      <td>191.0</td>\n",
       "      <td>Defender - Centre-Back</td>\n",
       "      <td>right</td>\n",
       "      <td>...</td>\n",
       "      <td>83.3</td>\n",
       "      <td>45.4</td>\n",
       "      <td>37.9</td>\n",
       "      <td>1.00</td>\n",
       "      <td>66161</td>\n",
       "      <td>1.0</td>\n",
       "      <td>1.0</td>\n",
       "      <td>0.0</td>\n",
       "      <td>201718#</td>\n",
       "      <td>2017</td>\n",
       "    </tr>\n",
       "    <tr>\n",
       "      <th>721.0</th>\n",
       "      <td>Rubén Duarte</td>\n",
       "      <td>es ESP</td>\n",
       "      <td>DF</td>\n",
       "      <td>Alavés</td>\n",
       "      <td>21.0</td>\n",
       "      <td>1995.0</td>\n",
       "      <td>2000000.0</td>\n",
       "      <td>179.0</td>\n",
       "      <td>Defender - Left-Back</td>\n",
       "      <td>left</td>\n",
       "      <td>...</td>\n",
       "      <td>39.0</td>\n",
       "      <td>53.2</td>\n",
       "      <td>-14.2</td>\n",
       "      <td>-0.37</td>\n",
       "      <td>16,819</td>\n",
       "      <td>0.0</td>\n",
       "      <td>0.0</td>\n",
       "      <td>0.0</td>\n",
       "      <td>201718#</td>\n",
       "      <td>2017</td>\n",
       "    </tr>\n",
       "    <tr>\n",
       "      <th>2512.0</th>\n",
       "      <td>Samuel Umtiti</td>\n",
       "      <td>fr FRA</td>\n",
       "      <td>DF</td>\n",
       "      <td>Barcelona</td>\n",
       "      <td>23.0</td>\n",
       "      <td>1993.0</td>\n",
       "      <td>60000000.0</td>\n",
       "      <td>182.0</td>\n",
       "      <td>Defender - Centre-Back</td>\n",
       "      <td>left</td>\n",
       "      <td>...</td>\n",
       "      <td>78.3</td>\n",
       "      <td>41.1</td>\n",
       "      <td>37.2</td>\n",
       "      <td>0.98</td>\n",
       "      <td>66603</td>\n",
       "      <td>1.0</td>\n",
       "      <td>0.0</td>\n",
       "      <td>0.0</td>\n",
       "      <td>201718#</td>\n",
       "      <td>2017</td>\n",
       "    </tr>\n",
       "    <tr>\n",
       "      <th>882.0</th>\n",
       "      <td>Manu García</td>\n",
       "      <td>es ESP</td>\n",
       "      <td>MF</td>\n",
       "      <td>Alavés</td>\n",
       "      <td>31.0</td>\n",
       "      <td>1986.0</td>\n",
       "      <td>1800000.0</td>\n",
       "      <td>183.0</td>\n",
       "      <td>midfield - Defensive Midfield</td>\n",
       "      <td>left</td>\n",
       "      <td>...</td>\n",
       "      <td>39.0</td>\n",
       "      <td>53.2</td>\n",
       "      <td>-14.2</td>\n",
       "      <td>-0.37</td>\n",
       "      <td>16,819</td>\n",
       "      <td>0.0</td>\n",
       "      <td>0.0</td>\n",
       "      <td>0.0</td>\n",
       "      <td>201718#</td>\n",
       "      <td>2017</td>\n",
       "    </tr>\n",
       "  </tbody>\n",
       "</table>\n",
       "<p>5 rows × 400 columns</p>\n",
       "</div>"
      ],
      "text/plain": [
       "                player nationality position        squad   age  birth_year  \\\n",
       "379.0           Burgui      es ESP    FW,MF       Alavés  23.0      1993.0   \n",
       "2530.0  Raphaël Varane      fr FRA       DF  Real Madrid  24.0      1993.0   \n",
       "721.0     Rubén Duarte      es ESP       DF       Alavés  21.0      1995.0   \n",
       "2512.0   Samuel Umtiti      fr FRA       DF    Barcelona  23.0      1993.0   \n",
       "882.0      Manu García      es ESP       MF       Alavés  31.0      1986.0   \n",
       "\n",
       "             value  height                      position2   foot  ...    xG  \\\n",
       "379.0    1800000.0   186.0           attack - Left Winger  right  ...  39.0   \n",
       "2530.0  70000000.0   191.0         Defender - Centre-Back  right  ...  83.3   \n",
       "721.0    2000000.0   179.0           Defender - Left-Back   left  ...  39.0   \n",
       "2512.0  60000000.0   182.0         Defender - Centre-Back   left  ...  78.3   \n",
       "882.0    1800000.0   183.0  midfield - Defensive Midfield   left  ...  39.0   \n",
       "\n",
       "         xGA  xGDiff  xGDiff/90  Attendance   CL  WinCL  CLBestScorer  \\\n",
       "379.0   53.2   -14.2      -0.37      16,819  0.0    0.0           0.0   \n",
       "2530.0  45.4    37.9       1.00       66161  1.0    1.0           0.0   \n",
       "721.0   53.2   -14.2      -0.37      16,819  0.0    0.0           0.0   \n",
       "2512.0  41.1    37.2       0.98       66603  1.0    0.0           0.0   \n",
       "882.0   53.2   -14.2      -0.37      16,819  0.0    0.0           0.0   \n",
       "\n",
       "         Season  year  \n",
       "379.0   201718#  2017  \n",
       "2530.0  201718#  2017  \n",
       "721.0   201718#  2017  \n",
       "2512.0  201718#  2017  \n",
       "882.0   201718#  2017  \n",
       "\n",
       "[5 rows x 400 columns]"
      ]
     },
     "execution_count": 6,
     "metadata": {},
     "output_type": "execute_result"
    }
   ],
   "source": [
    "og_df.head()"
   ]
  },
  {
   "cell_type": "markdown",
   "id": "276cb7a7",
   "metadata": {
    "papermill": {
     "duration": 0.006018,
     "end_time": "2024-11-25T01:30:27.455109",
     "exception": false,
     "start_time": "2024-11-25T01:30:27.449091",
     "status": "completed"
    },
    "tags": []
   },
   "source": [
    "Exploring the dataset and handling missing values"
   ]
  },
  {
   "cell_type": "code",
   "execution_count": 7,
   "id": "40fbf7a9",
   "metadata": {
    "execution": {
     "iopub.execute_input": "2024-11-25T01:30:27.469751Z",
     "iopub.status.busy": "2024-11-25T01:30:27.469313Z",
     "iopub.status.idle": "2024-11-25T01:30:27.519092Z",
     "shell.execute_reply": "2024-11-25T01:30:27.517788Z"
    },
    "papermill": {
     "duration": 0.060182,
     "end_time": "2024-11-25T01:30:27.521547",
     "exception": false,
     "start_time": "2024-11-25T01:30:27.461365",
     "status": "completed"
    },
    "tags": []
   },
   "outputs": [
    {
     "name": "stdout",
     "output_type": "stream",
     "text": [
      "<class 'pandas.core.frame.DataFrame'>\n",
      "Index: 7108 entries, 379.0 to 2615.0\n",
      "Columns: 400 entries, player to year\n",
      "dtypes: float64(390), int64(1), object(9)\n",
      "memory usage: 21.7+ MB\n"
     ]
    },
    {
     "data": {
      "text/plain": [
       "player          132\n",
       "nationality     132\n",
       "position        132\n",
       "squad           132\n",
       "age             132\n",
       "               ... \n",
       "CL              132\n",
       "WinCL           132\n",
       "CLBestScorer    412\n",
       "Season          132\n",
       "year              0\n",
       "Length: 400, dtype: int64"
      ]
     },
     "execution_count": 7,
     "metadata": {},
     "output_type": "execute_result"
    }
   ],
   "source": [
    "# Check the structure and data types of the dataset\n",
    "og_df.info()\n",
    "\n",
    "# Check for any missing values\n",
    "og_df.isnull().sum()"
   ]
  },
  {
   "cell_type": "markdown",
   "id": "efab2fc8",
   "metadata": {
    "papermill": {
     "duration": 0.006064,
     "end_time": "2024-11-25T01:30:27.534078",
     "exception": false,
     "start_time": "2024-11-25T01:30:27.528014",
     "status": "completed"
    },
    "tags": []
   },
   "source": [
    "# Dealing with Missing Values\n",
    "I noticed that the number of missing values is the same for all of the columns except 1 which would mean if I drop rows with missing player values it should handle all the other missing values aswell."
   ]
  },
  {
   "cell_type": "code",
   "execution_count": 8,
   "id": "3c6ac0a6",
   "metadata": {
    "execution": {
     "iopub.execute_input": "2024-11-25T01:30:27.548751Z",
     "iopub.status.busy": "2024-11-25T01:30:27.548310Z",
     "iopub.status.idle": "2024-11-25T01:30:27.569385Z",
     "shell.execute_reply": "2024-11-25T01:30:27.568320Z"
    },
    "papermill": {
     "duration": 0.031527,
     "end_time": "2024-11-25T01:30:27.571900",
     "exception": false,
     "start_time": "2024-11-25T01:30:27.540373",
     "status": "completed"
    },
    "tags": []
   },
   "outputs": [],
   "source": [
    "og_df.dropna(subset=['player'], inplace=True)"
   ]
  },
  {
   "cell_type": "code",
   "execution_count": 9,
   "id": "9ceed5b4",
   "metadata": {
    "execution": {
     "iopub.execute_input": "2024-11-25T01:30:27.586016Z",
     "iopub.status.busy": "2024-11-25T01:30:27.585668Z",
     "iopub.status.idle": "2024-11-25T01:30:27.604222Z",
     "shell.execute_reply": "2024-11-25T01:30:27.603069Z"
    },
    "papermill": {
     "duration": 0.028349,
     "end_time": "2024-11-25T01:30:27.606555",
     "exception": false,
     "start_time": "2024-11-25T01:30:27.578206",
     "status": "completed"
    },
    "tags": []
   },
   "outputs": [
    {
     "name": "stdout",
     "output_type": "stream",
     "text": [
      "player            0\n",
      "nationality       0\n",
      "position          0\n",
      "squad             0\n",
      "age               0\n",
      "               ... \n",
      "CL                0\n",
      "WinCL             0\n",
      "CLBestScorer    412\n",
      "Season            0\n",
      "year              0\n",
      "Length: 400, dtype: int64\n"
     ]
    }
   ],
   "source": [
    "# Check missing values across columns to ensure they are resolved\n",
    "print(og_df.isnull().sum())"
   ]
  },
  {
   "cell_type": "code",
   "execution_count": 10,
   "id": "19e17bce",
   "metadata": {
    "execution": {
     "iopub.execute_input": "2024-11-25T01:30:27.621633Z",
     "iopub.status.busy": "2024-11-25T01:30:27.621236Z",
     "iopub.status.idle": "2024-11-25T01:30:27.627287Z",
     "shell.execute_reply": "2024-11-25T01:30:27.626323Z"
    },
    "papermill": {
     "duration": 0.016386,
     "end_time": "2024-11-25T01:30:27.629443",
     "exception": false,
     "start_time": "2024-11-25T01:30:27.613057",
     "status": "completed"
    },
    "tags": []
   },
   "outputs": [],
   "source": [
    "og_df['CLBestScorer'] = og_df['CLBestScorer'].fillna(0)  "
   ]
  },
  {
   "cell_type": "markdown",
   "id": "1f89e836",
   "metadata": {
    "papermill": {
     "duration": 0.006324,
     "end_time": "2024-11-25T01:30:27.642256",
     "exception": false,
     "start_time": "2024-11-25T01:30:27.635932",
     "status": "completed"
    },
    "tags": []
   },
   "source": [
    "# Selecting the features and the model."
   ]
  },
  {
   "cell_type": "code",
   "execution_count": 11,
   "id": "028b3ea6",
   "metadata": {
    "execution": {
     "iopub.execute_input": "2024-11-25T01:30:27.657194Z",
     "iopub.status.busy": "2024-11-25T01:30:27.656791Z",
     "iopub.status.idle": "2024-11-25T01:30:27.663545Z",
     "shell.execute_reply": "2024-11-25T01:30:27.662504Z"
    },
    "papermill": {
     "duration": 0.01683,
     "end_time": "2024-11-25T01:30:27.665668",
     "exception": false,
     "start_time": "2024-11-25T01:30:27.648838",
     "status": "completed"
    },
    "tags": []
   },
   "outputs": [],
   "source": [
    "# Selecting relevant features\n",
    "features = ['age', 'games', 'goals', 'value']\n",
    "new_df = og_df[features]"
   ]
  },
  {
   "cell_type": "code",
   "execution_count": 12,
   "id": "23b01ec3",
   "metadata": {
    "execution": {
     "iopub.execute_input": "2024-11-25T01:30:27.680208Z",
     "iopub.status.busy": "2024-11-25T01:30:27.679834Z",
     "iopub.status.idle": "2024-11-25T01:30:30.389429Z",
     "shell.execute_reply": "2024-11-25T01:30:30.388207Z"
    },
    "papermill": {
     "duration": 2.719897,
     "end_time": "2024-11-25T01:30:30.391985",
     "exception": false,
     "start_time": "2024-11-25T01:30:27.672088",
     "status": "completed"
    },
    "tags": []
   },
   "outputs": [
    {
     "data": {
      "image/png": "[encoded data removed]",
      "text/plain": [
       "<Figure size 1500x500 with 3 Axes>"
      ]
     },
     "metadata": {},
     "output_type": "display_data"
    }
   ],
   "source": [
    "import seaborn as sns\n",
    "import matplotlib.pyplot as plt\n",
    "\n",
    "sns.pairplot(new_df, x_vars=['age', 'games', 'goals'], y_vars='value', height=5)\n",
    "plt.show()"
   ]
  },
  {
   "cell_type": "markdown",
   "id": "d40fcd65",
   "metadata": {
    "papermill": {
     "duration": 0.007903,
     "end_time": "2024-11-25T01:30:30.408024",
     "exception": false,
     "start_time": "2024-11-25T01:30:30.400121",
     "status": "completed"
    },
    "tags": []
   },
   "source": [
    "### Taking the log of value because there is a high variance in the value of players. \n",
    "A players market value has a wide span of values which can affect the model performance. "
   ]
  },
  {
   "cell_type": "code",
   "execution_count": 13,
   "id": "15566417",
   "metadata": {
    "execution": {
     "iopub.execute_input": "2024-11-25T01:30:30.425653Z",
     "iopub.status.busy": "2024-11-25T01:30:30.425052Z",
     "iopub.status.idle": "2024-11-25T01:30:30.432559Z",
     "shell.execute_reply": "2024-11-25T01:30:30.431457Z"
    },
    "papermill": {
     "duration": 0.019196,
     "end_time": "2024-11-25T01:30:30.434928",
     "exception": false,
     "start_time": "2024-11-25T01:30:30.415732",
     "status": "completed"
    },
    "tags": []
   },
   "outputs": [
    {
     "name": "stderr",
     "output_type": "stream",
     "text": [
      "/tmp/ipykernel_17/1467850279.py:1: SettingWithCopyWarning: \n",
      "A value is trying to be set on a copy of a slice from a DataFrame.\n",
      "Try using .loc[row_indexer,col_indexer] = value instead\n",
      "\n",
      "See the caveats in the documentation: https://pandas.pydata.org/pandas-docs/stable/user_guide/indexing.html#returning-a-view-versus-a-copy\n",
      "  new_df['value_log'] = np.log1p(new_df['value'])\n"
     ]
    }
   ],
   "source": [
    "new_df['value_log'] = np.log1p(new_df['value'])"
   ]
  },
  {
   "cell_type": "markdown",
   "id": "ee5f9fcc",
   "metadata": {
    "papermill": {
     "duration": 0.00762,
     "end_time": "2024-11-25T01:30:30.450517",
     "exception": false,
     "start_time": "2024-11-25T01:30:30.442897",
     "status": "completed"
    },
    "tags": []
   },
   "source": [
    "### Splitting the data into train and test data."
   ]
  },
  {
   "cell_type": "code",
   "execution_count": 14,
   "id": "ad348677",
   "metadata": {
    "execution": {
     "iopub.execute_input": "2024-11-25T01:30:30.468790Z",
     "iopub.status.busy": "2024-11-25T01:30:30.468293Z",
     "iopub.status.idle": "2024-11-25T01:30:30.805909Z",
     "shell.execute_reply": "2024-11-25T01:30:30.804661Z"
    },
    "papermill": {
     "duration": 0.35011,
     "end_time": "2024-11-25T01:30:30.808411",
     "exception": false,
     "start_time": "2024-11-25T01:30:30.458301",
     "status": "completed"
    },
    "tags": []
   },
   "outputs": [],
   "source": [
    "from sklearn.model_selection import train_test_split\n",
    "\n",
    "X = new_df[['age', 'games', 'goals']]\n",
    "y = new_df['value_log']\n",
    "\n",
    "X_train, X_test, y_train, y_test = train_test_split(X, y, test_size=0.2, random_state=42)"
   ]
  },
  {
   "cell_type": "markdown",
   "id": "98d3d518",
   "metadata": {
    "papermill": {
     "duration": 0.007752,
     "end_time": "2024-11-25T01:30:30.824266",
     "exception": false,
     "start_time": "2024-11-25T01:30:30.816514",
     "status": "completed"
    },
    "tags": []
   },
   "source": [
    "## Training the Linear Regression model"
   ]
  },
  {
   "cell_type": "code",
   "execution_count": 15,
   "id": "be84a5fa",
   "metadata": {
    "execution": {
     "iopub.execute_input": "2024-11-25T01:30:30.841941Z",
     "iopub.status.busy": "2024-11-25T01:30:30.841533Z",
     "iopub.status.idle": "2024-11-25T01:30:30.991584Z",
     "shell.execute_reply": "2024-11-25T01:30:30.990458Z"
    },
    "papermill": {
     "duration": 0.161836,
     "end_time": "2024-11-25T01:30:30.993983",
     "exception": false,
     "start_time": "2024-11-25T01:30:30.832147",
     "status": "completed"
    },
    "tags": []
   },
   "outputs": [
    {
     "data": {
      "text/html": [
       "<style>#sk-container-id-1 {color: black;background-color: white;}#sk-container-id-1 pre{padding: 0;}#sk-container-id-1 div.sk-toggleable {background-color: white;}#sk-container-id-1 label.sk-toggleable__label {cursor: pointer;display: block;width: 100%;margin-bottom: 0;padding: 0.3em;box-sizing: border-box;text-align: center;}#sk-container-id-1 label.sk-toggleable__label-arrow:before {content: \"▸\";float: left;margin-right: 0.25em;color: #696969;}#sk-container-id-1 label.sk-toggleable__label-arrow:hover:before {color: black;}#sk-container-id-1 div.sk-estimator:hover label.sk-toggleable__label-arrow:before {color: black;}#sk-container-id-1 div.sk-toggleable__content {max-height: 0;max-width: 0;overflow: hidden;text-align: left;background-color: #f0f8ff;}#sk-container-id-1 div.sk-toggleable__content pre {margin: 0.2em;color: black;border-radius: 0.25em;background-color: #f0f8ff;}#sk-container-id-1 input.sk-toggleable__control:checked~div.sk-toggleable__content {max-height: 200px;max-width: 100%;overflow: auto;}#sk-container-id-1 input.sk-toggleable__control:checked~label.sk-toggleable__label-arrow:before {content: \"▾\";}#sk-container-id-1 div.sk-estimator input.sk-toggleable__control:checked~label.sk-toggleable__label {background-color: #d4ebff;}#sk-container-id-1 div.sk-label input.sk-toggleable__control:checked~label.sk-toggleable__label {background-color: #d4ebff;}#sk-container-id-1 input.sk-hidden--visually {border: 0;clip: rect(1px 1px 1px 1px);clip: rect(1px, 1px, 1px, 1px);height: 1px;margin: -1px;overflow: hidden;padding: 0;position: absolute;width: 1px;}#sk-container-id-1 div.sk-estimator {font-family: monospace;background-color: #f0f8ff;border: 1px dotted black;border-radius: 0.25em;box-sizing: border-box;margin-bottom: 0.5em;}#sk-container-id-1 div.sk-estimator:hover {background-color: #d4ebff;}#sk-container-id-1 div.sk-parallel-item::after {content: \"\";width: 100%;border-bottom: 1px solid gray;flex-grow: 1;}#sk-container-id-1 div.sk-label:hover label.sk-toggleable__label {background-color: #d4ebff;}#sk-container-id-1 div.sk-serial::before {content: \"\";position: absolute;border-left: 1px solid gray;box-sizing: border-box;top: 0;bottom: 0;left: 50%;z-index: 0;}#sk-container-id-1 div.sk-serial {display: flex;flex-direction: column;align-items: center;background-color: white;padding-right: 0.2em;padding-left: 0.2em;position: relative;}#sk-container-id-1 div.sk-item {position: relative;z-index: 1;}#sk-container-id-1 div.sk-parallel {display: flex;align-items: stretch;justify-content: center;background-color: white;position: relative;}#sk-container-id-1 div.sk-item::before, #sk-container-id-1 div.sk-parallel-item::before {content: \"\";position: absolute;border-left: 1px solid gray;box-sizing: border-box;top: 0;bottom: 0;left: 50%;z-index: -1;}#sk-container-id-1 div.sk-parallel-item {display: flex;flex-direction: column;z-index: 1;position: relative;background-color: white;}#sk-container-id-1 div.sk-parallel-item:first-child::after {align-self: flex-end;width: 50%;}#sk-container-id-1 div.sk-parallel-item:last-child::after {align-self: flex-start;width: 50%;}#sk-container-id-1 div.sk-parallel-item:only-child::after {width: 0;}#sk-container-id-1 div.sk-dashed-wrapped {border: 1px dashed gray;margin: 0 0.4em 0.5em 0.4em;box-sizing: border-box;padding-bottom: 0.4em;background-color: white;}#sk-container-id-1 div.sk-label label {font-family: monospace;font-weight: bold;display: inline-block;line-height: 1.2em;}#sk-container-id-1 div.sk-label-container {text-align: center;}#sk-container-id-1 div.sk-container {/* jupyter's `normalize.less` sets `[hidden] { display: none; }` but bootstrap.min.css set `[hidden] { display: none !important; }` so we also need the `!important` here to be able to override the default hidden behavior on the sphinx rendered scikit-learn.org. See: https://github.com/scikit-learn/scikit-learn/issues/21755 */display: inline-block !important;position: relative;}#sk-container-id-1 div.sk-text-repr-fallback {display: none;}</style><div id=\"sk-container-id-1\" class=\"sk-top-container\"><div class=\"sk-text-repr-fallback\"><pre>LinearRegression()</pre><b>In a Jupyter environment, please rerun this cell to show the HTML representation or trust the notebook. <br />On GitHub, the HTML representation is unable to render, please try loading this page with nbviewer.org.</b></div><div class=\"sk-container\" hidden><div class=\"sk-item\"><div class=\"sk-estimator sk-toggleable\"><input class=\"sk-toggleable__control sk-hidden--visually\" id=\"sk-estimator-id-1\" type=\"checkbox\" checked><label for=\"sk-estimator-id-1\" class=\"sk-toggleable__label sk-toggleable__label-arrow\">LinearRegression</label><div class=\"sk-toggleable__content\"><pre>LinearRegression()</pre></div></div></div></div></div>"
      ],
      "text/plain": [
       "LinearRegression()"
      ]
     },
     "execution_count": 15,
     "metadata": {},
     "output_type": "execute_result"
    }
   ],
   "source": [
    "from sklearn.linear_model import LinearRegression\n",
    "\n",
    "model = LinearRegression()\n",
    "model.fit(X_train, y_train)"
   ]
  },
  {
   "cell_type": "markdown",
   "id": "68b398cd",
   "metadata": {
    "papermill": {
     "duration": 0.008464,
     "end_time": "2024-11-25T01:30:31.011883",
     "exception": false,
     "start_time": "2024-11-25T01:30:31.003419",
     "status": "completed"
    },
    "tags": []
   },
   "source": [
    "## Checking model performance"
   ]
  },
  {
   "cell_type": "code",
   "execution_count": 16,
   "id": "0910d12e",
   "metadata": {
    "execution": {
     "iopub.execute_input": "2024-11-25T01:30:31.030013Z",
     "iopub.status.busy": "2024-11-25T01:30:31.029632Z",
     "iopub.status.idle": "2024-11-25T01:30:31.039652Z",
     "shell.execute_reply": "2024-11-25T01:30:31.038437Z"
    },
    "papermill": {
     "duration": 0.021673,
     "end_time": "2024-11-25T01:30:31.041645",
     "exception": false,
     "start_time": "2024-11-25T01:30:31.019972",
     "status": "completed"
    },
    "tags": []
   },
   "outputs": [
    {
     "name": "stdout",
     "output_type": "stream",
     "text": [
      "Mean Squared Error: 3.088720392313196\n",
      "R^2 Score: 0.30770140138674296\n"
     ]
    }
   ],
   "source": [
    "from sklearn.metrics import mean_squared_error, r2_score\n",
    "\n",
    "y_pred = model.predict(X_test)\n",
    "mse = mean_squared_error(y_test, y_pred)\n",
    "r2 = r2_score(y_test, y_pred)\n",
    "\n",
    "print(f'Mean Squared Error: {mse}')\n",
    "print(f'R^2 Score: {r2}')"
   ]
  },
  {
   "cell_type": "markdown",
   "id": "29319ff6",
   "metadata": {
    "papermill": {
     "duration": 0.00803,
     "end_time": "2024-11-25T01:30:31.058092",
     "exception": false,
     "start_time": "2024-11-25T01:30:31.050062",
     "status": "completed"
    },
    "tags": []
   },
   "source": [
    "## Based on the MSE and R^2 the model seems pretty bad, but it will do."
   ]
  },
  {
   "cell_type": "code",
   "execution_count": 17,
   "id": "43c1ecab",
   "metadata": {
    "execution": {
     "iopub.execute_input": "2024-11-25T01:30:31.076599Z",
     "iopub.status.busy": "2024-11-25T01:30:31.076185Z",
     "iopub.status.idle": "2024-11-25T01:30:31.082974Z",
     "shell.execute_reply": "2024-11-25T01:30:31.081670Z"
    },
    "papermill": {
     "duration": 0.018525,
     "end_time": "2024-11-25T01:30:31.084950",
     "exception": false,
     "start_time": "2024-11-25T01:30:31.066425",
     "status": "completed"
    },
    "tags": []
   },
   "outputs": [
    {
     "name": "stdout",
     "output_type": "stream",
     "text": [
      "age     -0.090163\n",
      "games    0.084353\n",
      "goals    0.100002\n",
      "dtype: float64\n"
     ]
    }
   ],
   "source": [
    "feature_importance = pd.Series(model.coef_, index=X.columns)\n",
    "print(feature_importance)"
   ]
  },
  {
   "cell_type": "markdown",
   "id": "1a6f1a9c",
   "metadata": {
    "papermill": {
     "duration": 0.007927,
     "end_time": "2024-11-25T01:30:31.101115",
     "exception": false,
     "start_time": "2024-11-25T01:30:31.093188",
     "status": "completed"
    },
    "tags": []
   },
   "source": [
    "## Using pickle to use the model in my web app"
   ]
  },
  {
   "cell_type": "code",
   "execution_count": 18,
   "id": "e35e6221",
   "metadata": {
    "execution": {
     "iopub.execute_input": "2024-11-25T01:30:31.119239Z",
     "iopub.status.busy": "2024-11-25T01:30:31.118875Z",
     "iopub.status.idle": "2024-11-25T01:30:31.124363Z",
     "shell.execute_reply": "2024-11-25T01:30:31.123549Z"
    },
    "papermill": {
     "duration": 0.017074,
     "end_time": "2024-11-25T01:30:31.126325",
     "exception": false,
     "start_time": "2024-11-25T01:30:31.109251",
     "status": "completed"
    },
    "tags": []
   },
   "outputs": [],
   "source": [
    "import pickle\n",
    "\n",
    "# Save the model to a file\n",
    "model_filename = '/kaggle/working/soccer_model.pkl'\n",
    "with open(model_filename, 'wb') as file:\n",
    "    pickle.dump(model, file)"
   ]
  }
 ],
 "metadata": {
  "kaggle": {
   "accelerator": "none",
   "dataSources": [
    {
     "datasetId": 1333734,
     "sourceId": 2220849,
     "sourceType": "datasetVersion"
    }
   ],
   "dockerImageVersionId": 30786,
   "isGpuEnabled": false,
   "isInternetEnabled": true,
   "language": "python",
   "sourceType": "notebook"
  },
  "kernelspec": {
   "display_name": "Python 3",
   "language": "python",
   "name": "python3"
  },
  "language_info": {
   "codemirror_mode": {
    "name": "ipython",
    "version": 3
   },
   "file_extension": ".py",
   "mimetype": "text/x-python",
   "name": "python",
   "nbconvert_exporter": "python",
   "pygments_lexer": "ipython3",
   "version": "3.10.14"
  },
  "papermill": {
   "default_parameters": {},
   "duration": 9.430277,
   "end_time": "2024-11-25T01:30:31.857285",
   "environment_variables": {},
   "exception": null,
   "input_path": "__notebook__.ipynb",
   "output_path": "__notebook__.ipynb",
   "parameters": {},
   "start_time": "2024-11-25T01:30:22.427008",
   "version": "2.6.0"
  }
 },
 "nbformat": 4,
 "nbformat_minor": 5
}
